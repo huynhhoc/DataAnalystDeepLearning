{
  "nbformat": 4,
  "nbformat_minor": 0,
  "metadata": {
    "colab": {
      "name": "Lab07_ANN.ipynb",
      "provenance": [],
      "authorship_tag": "ABX9TyNMVge+HaGuL6ui2BVb45kF",
      "include_colab_link": true
    },
    "kernelspec": {
      "name": "python3",
      "display_name": "Python 3"
    },
    "language_info": {
      "name": "python"
    }
  },
  "cells": [
    {
      "cell_type": "markdown",
      "metadata": {
        "id": "view-in-github",
        "colab_type": "text"
      },
      "source": [
        "<a href=\"https://colab.research.google.com/github/huynhhoc/DataAnalystDeepLearning/blob/main/Labs/Lab07_ANN.ipynb\" target=\"_parent\"><img src=\"https://colab.research.google.com/assets/colab-badge.svg\" alt=\"Open In Colab\"/></a>"
      ]
    },
    {
      "cell_type": "markdown",
      "metadata": {
        "id": "kqM_XN9veSzR"
      },
      "source": [
        "Tham khảo: https://thinkingneuron.com/using-artificial-neural-networks-for-regression-in-python/"
      ]
    },
    {
      "cell_type": "code",
      "metadata": {
        "id": "irTvS4o1X-1E"
      },
      "source": [
        "import numpy as np\n",
        "# hàm này để hiển thị các tấm ảnh \n",
        "import matplotlib.pyplot as plt\n",
        "# để chọn ngẫu nhiên các tấm ảnh\n",
        "import random\n",
        "# để load dữ liệu trong tập mẫu\n",
        "from keras.datasets import mnist\n",
        "# các hàm sau để xây dựng mô hình mạng neural \n",
        "# thêm 1 lớp, thêm hàm kích hoạt activation\n",
        "from keras.models import Sequential\n",
        "from keras.utils import np_utils\n",
        "from keras.layers.core import Dense,Activation"
      ],
      "execution_count": 15,
      "outputs": []
    },
    {
      "cell_type": "code",
      "metadata": {
        "id": "RRYoA_kAYbr9"
      },
      "source": [
        "model= Sequential()\n",
        "#add vào 1 lớp input,có 10 neural(10 neural) và mỗi neural có 784 input\n",
        "model.add(Dense(2,input_dim=2,kernel_initializer='normal'))\n",
        "model.add(Activation('relu'))"
      ],
      "execution_count": 16,
      "outputs": []
    },
    {
      "cell_type": "code",
      "metadata": {
        "id": "GdF_PHs2YlVR"
      },
      "source": [
        "# add lớp hidden sẽ tự động lấy đầu vào của lớp đầu, giá trị hiden có thể thay đổi\n",
        "model.add(Dense(3,kernel_initializer='normal'))\n",
        "model.add(Activation('relu'))"
      ],
      "execution_count": 17,
      "outputs": []
    },
    {
      "cell_type": "code",
      "metadata": {
        "colab": {
          "base_uri": "https://localhost:8080/"
        },
        "id": "eImmNT-MYoX5",
        "outputId": "a994de90-c096-4953-b229-8d677a722eaa"
      },
      "source": [
        "# add vào lớp đầu ra, bắt buộc là 10 vì số từ 0->9 là 10 số\n",
        "model.add(Dense(1,kernel_initializer='normal'))\n",
        "# dùng hàm softmax vì đầu ra là 10 lớp (nhận dạng số 0-9)\n",
        "# Với các bài toán classification (phân loại) thì nếu có 2 lớp thì hàm activation ở output layer là hàm sigmoid, \n",
        "# còn nhiều hơn 2 lớp thì hàm activation ở ouput layer là hàm softmax\n",
        "model.add(Activation('softmax'))\n",
        "model.summary()"
      ],
      "execution_count": 18,
      "outputs": [
        {
          "output_type": "stream",
          "name": "stdout",
          "text": [
            "Model: \"sequential_1\"\n",
            "_________________________________________________________________\n",
            "Layer (type)                 Output Shape              Param #   \n",
            "=================================================================\n",
            "dense_3 (Dense)              (None, 2)                 6         \n",
            "_________________________________________________________________\n",
            "activation_3 (Activation)    (None, 2)                 0         \n",
            "_________________________________________________________________\n",
            "dense_4 (Dense)              (None, 3)                 9         \n",
            "_________________________________________________________________\n",
            "activation_4 (Activation)    (None, 3)                 0         \n",
            "_________________________________________________________________\n",
            "dense_5 (Dense)              (None, 1)                 4         \n",
            "_________________________________________________________________\n",
            "activation_5 (Activation)    (None, 1)                 0         \n",
            "=================================================================\n",
            "Total params: 19\n",
            "Trainable params: 19\n",
            "Non-trainable params: 0\n",
            "_________________________________________________________________\n"
          ]
        }
      ]
    },
    {
      "cell_type": "code",
      "metadata": {
        "id": "0cdHb1MWYrTp"
      },
      "source": [
        "model.compile(loss='mean_squared_error',optimizer='adam',metrics=['accuracy'])"
      ],
      "execution_count": 19,
      "outputs": []
    },
    {
      "cell_type": "code",
      "metadata": {
        "id": "PH05gX95YyY9"
      },
      "source": [
        "import pandas as pd\n",
        "data = pd.read_csv(\"https://raw.githubusercontent.com/huynhhoc/DataAnalystDeepLearning/main/Data/04_CIGARET.csv\")"
      ],
      "execution_count": 20,
      "outputs": []
    },
    {
      "cell_type": "code",
      "metadata": {
        "colab": {
          "base_uri": "https://localhost:8080/",
          "height": 204
        },
        "id": "cv2i5fb9ZAEB",
        "outputId": "a7510936-6d16-47b5-f87d-1019e1f88421"
      },
      "source": [
        "data.head(5)"
      ],
      "execution_count": 21,
      "outputs": [
        {
          "output_type": "execute_result",
          "data": {
            "text/html": [
              "<div>\n",
              "<style scoped>\n",
              "    .dataframe tbody tr th:only-of-type {\n",
              "        vertical-align: middle;\n",
              "    }\n",
              "\n",
              "    .dataframe tbody tr th {\n",
              "        vertical-align: top;\n",
              "    }\n",
              "\n",
              "    .dataframe thead th {\n",
              "        text-align: right;\n",
              "    }\n",
              "</style>\n",
              "<table border=\"1\" class=\"dataframe\">\n",
              "  <thead>\n",
              "    <tr style=\"text-align: right;\">\n",
              "      <th></th>\n",
              "      <th>KgTar</th>\n",
              "      <th>KgNic</th>\n",
              "      <th>KgCO</th>\n",
              "      <th>MnTar</th>\n",
              "      <th>MnNic</th>\n",
              "      <th>MnCO</th>\n",
              "      <th>FLTar</th>\n",
              "      <th>FLNic</th>\n",
              "      <th>FLCO</th>\n",
              "    </tr>\n",
              "  </thead>\n",
              "  <tbody>\n",
              "    <tr>\n",
              "      <th>0</th>\n",
              "      <td>20</td>\n",
              "      <td>1.1</td>\n",
              "      <td>16</td>\n",
              "      <td>16</td>\n",
              "      <td>1.1</td>\n",
              "      <td>15</td>\n",
              "      <td>5</td>\n",
              "      <td>0.4</td>\n",
              "      <td>4</td>\n",
              "    </tr>\n",
              "    <tr>\n",
              "      <th>1</th>\n",
              "      <td>27</td>\n",
              "      <td>1.7</td>\n",
              "      <td>16</td>\n",
              "      <td>13</td>\n",
              "      <td>0.8</td>\n",
              "      <td>17</td>\n",
              "      <td>16</td>\n",
              "      <td>1.0</td>\n",
              "      <td>19</td>\n",
              "    </tr>\n",
              "    <tr>\n",
              "      <th>2</th>\n",
              "      <td>27</td>\n",
              "      <td>1.7</td>\n",
              "      <td>16</td>\n",
              "      <td>16</td>\n",
              "      <td>1.0</td>\n",
              "      <td>19</td>\n",
              "      <td>17</td>\n",
              "      <td>1.2</td>\n",
              "      <td>17</td>\n",
              "    </tr>\n",
              "    <tr>\n",
              "      <th>3</th>\n",
              "      <td>20</td>\n",
              "      <td>1.1</td>\n",
              "      <td>16</td>\n",
              "      <td>9</td>\n",
              "      <td>0.9</td>\n",
              "      <td>9</td>\n",
              "      <td>13</td>\n",
              "      <td>0.8</td>\n",
              "      <td>18</td>\n",
              "    </tr>\n",
              "    <tr>\n",
              "      <th>4</th>\n",
              "      <td>20</td>\n",
              "      <td>1.1</td>\n",
              "      <td>16</td>\n",
              "      <td>14</td>\n",
              "      <td>0.8</td>\n",
              "      <td>17</td>\n",
              "      <td>13</td>\n",
              "      <td>0.8</td>\n",
              "      <td>18</td>\n",
              "    </tr>\n",
              "  </tbody>\n",
              "</table>\n",
              "</div>"
            ],
            "text/plain": [
              "   KgTar  KgNic  KgCO  MnTar  MnNic  MnCO  FLTar  FLNic  FLCO\n",
              "0     20    1.1    16     16    1.1    15      5    0.4     4\n",
              "1     27    1.7    16     13    0.8    17     16    1.0    19\n",
              "2     27    1.7    16     16    1.0    19     17    1.2    17\n",
              "3     20    1.1    16      9    0.9     9     13    0.8    18\n",
              "4     20    1.1    16     14    0.8    17     13    0.8    18"
            ]
          },
          "metadata": {},
          "execution_count": 21
        }
      ]
    },
    {
      "cell_type": "code",
      "metadata": {
        "id": "GQeFG6P9btGb"
      },
      "source": [
        "Preditors = ['MnTar', 'MnCO']\n",
        "TargetVariable =['MnNIC']"
      ],
      "execution_count": 22,
      "outputs": []
    },
    {
      "cell_type": "code",
      "metadata": {
        "id": "oRdzyuIsZERC"
      },
      "source": [
        "X = pd.DataFrame(data, columns = Preditors)\n",
        "y = pd.DataFrame(data, columns = TargetVariable)"
      ],
      "execution_count": 23,
      "outputs": []
    },
    {
      "cell_type": "code",
      "metadata": {
        "id": "TlcfkBBld3Mb",
        "outputId": "aa0f90d5-7b05-4095-daab-f1c0d9388d5b",
        "colab": {
          "base_uri": "https://localhost:8080/"
        }
      },
      "source": [
        "### Sandardization of data ###\n",
        "from sklearn.preprocessing import StandardScaler\n",
        "PredictorScaler=StandardScaler()\n",
        "TargetVarScaler=StandardScaler()\n",
        "\n",
        "# Storing the fit object for later reference\n",
        "PredictorScalerFit=PredictorScaler.fit(X)\n",
        "TargetVarScalerFit=TargetVarScaler.fit(y)\n",
        "\n",
        "# Generating the standardized values of X and y\n",
        "X=PredictorScalerFit.transform(X)\n",
        "y=TargetVarScalerFit.transform(y)"
      ],
      "execution_count": 24,
      "outputs": [
        {
          "output_type": "stream",
          "name": "stderr",
          "text": [
            "/usr/local/lib/python3.7/dist-packages/sklearn/utils/extmath.py:765: RuntimeWarning: invalid value encountered in true_divide\n",
            "  updated_mean = (last_sum + new_sum) / updated_sample_count\n",
            "/usr/local/lib/python3.7/dist-packages/sklearn/utils/extmath.py:706: RuntimeWarning: Degrees of freedom <= 0 for slice.\n",
            "  result = op(x, *args, **kwargs)\n"
          ]
        }
      ]
    },
    {
      "cell_type": "code",
      "metadata": {
        "id": "MEV8XW5ycgIE"
      },
      "source": [
        "# Split the data into training and testing set\n",
        "from sklearn.model_selection import train_test_split\n",
        "X_train, X_test, y_train, y_test = train_test_split(X, y, test_size=0.3, random_state=42)"
      ],
      "execution_count": 25,
      "outputs": []
    },
    {
      "cell_type": "code",
      "metadata": {
        "colab": {
          "base_uri": "https://localhost:8080/"
        },
        "id": "C2V9Rd8VYuyV",
        "outputId": "af137664-7f2a-473d-d3b8-6dbe0b4e4d1c"
      },
      "source": [
        "history = model.fit(X_train,y_train,batch_size=5,epochs=5, verbose=1)"
      ],
      "execution_count": 26,
      "outputs": [
        {
          "output_type": "stream",
          "name": "stdout",
          "text": [
            "Epoch 1/5\n",
            "4/4 [==============================] - 0s 3ms/step - loss: nan - accuracy: 0.0000e+00\n",
            "Epoch 2/5\n",
            "4/4 [==============================] - 0s 3ms/step - loss: nan - accuracy: 0.0000e+00\n",
            "Epoch 3/5\n",
            "4/4 [==============================] - 0s 2ms/step - loss: nan - accuracy: 0.0000e+00\n",
            "Epoch 4/5\n",
            "4/4 [==============================] - 0s 2ms/step - loss: nan - accuracy: 0.0000e+00\n",
            "Epoch 5/5\n",
            "4/4 [==============================] - 0s 2ms/step - loss: nan - accuracy: 0.0000e+00\n"
          ]
        }
      ]
    },
    {
      "cell_type": "code",
      "metadata": {
        "id": "L9T3lDTPcpbx"
      },
      "source": [
        "# giá trị thực tế được lưu ở tập t_test\n",
        "predicted_classes=model.predict(X_test)"
      ],
      "execution_count": 27,
      "outputs": []
    },
    {
      "cell_type": "code",
      "metadata": {
        "colab": {
          "base_uri": "https://localhost:8080/"
        },
        "id": "KcV8L-AMcyzq",
        "outputId": "75da9631-13ff-4462-a3ab-bbff62655a5f"
      },
      "source": [
        "predicted_classes"
      ],
      "execution_count": 28,
      "outputs": [
        {
          "output_type": "execute_result",
          "data": {
            "text/plain": [
              "array([[nan],\n",
              "       [nan],\n",
              "       [nan],\n",
              "       [nan],\n",
              "       [nan],\n",
              "       [nan],\n",
              "       [nan],\n",
              "       [nan]], dtype=float32)"
            ]
          },
          "metadata": {},
          "execution_count": 28
        }
      ]
    }
  ]
}