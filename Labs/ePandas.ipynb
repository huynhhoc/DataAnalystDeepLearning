{
 "cells": [
  {
   "cell_type": "markdown",
   "metadata": {},
   "source": [
    "# Pandas\n",
    "\n",
    "Pandas, like NumPy, is one of the most popular Python libraries for data analysis. It is a high-level abstraction over low-level NumPy, which is written in pure C.\n",
    "\n",
    "Pandas provides high-performance, easy-to-use data structures and data analysis tools. There are two main structures used by pandas; data frames and series.\n",
    "\n",
    "* A pandas series is similar to a list, but differs in the fact that a series associates a label with each element. This makes it look like a dictionary.\n",
    "* If an index is not explicitly provided by the user, pandas creates a RangeIndex ranging from 0 to N-1.\n",
    "* Each series object also has a data type.\n",
    "\n"
   ]
  },
  {
   "cell_type": "code",
   "execution_count": 1,
   "metadata": {},
   "outputs": [
    {
     "name": "stdout",
     "output_type": "stream",
     "text": [
      "0     5\n",
      "1     6\n",
      "2     7\n",
      "3     8\n",
      "4     9\n",
      "5    19\n",
      "dtype: int64\n"
     ]
    }
   ],
   "source": [
    "import pandas as pd\n",
    "\n",
    "new_series = pd.Series([5,6,7,8,9,19])\n",
    "print(new_series)"
   ]
  },
  {
   "cell_type": "code",
   "execution_count": 2,
   "metadata": {},
   "outputs": [
    {
     "name": "stdout",
     "output_type": "stream",
     "text": [
      "[ 5  6  7  8  9 19]\n",
      "-----------------\n",
      "9\n"
     ]
    }
   ],
   "source": [
    "import pandas as pd\n",
    "\n",
    "new_series = pd.Series([5,6,7,8,9,19])\n",
    "print(new_series.values)\n",
    "\n",
    "print('-----------------')\n",
    "print(new_series[4])"
   ]
  },
  {
   "cell_type": "markdown",
   "metadata": {},
   "source": [
    "You can provide an index manually"
   ]
  },
  {
   "cell_type": "code",
   "execution_count": 3,
   "metadata": {},
   "outputs": [
    {
     "name": "stdout",
     "output_type": "stream",
     "text": [
      "[ 5  6  7  8  9 19]\n",
      "-----------------\n",
      "19\n"
     ]
    }
   ],
   "source": [
    "import pandas as pd\n",
    "\n",
    "new_series = pd.Series([5,6,7,8,9,19], index=['a','b','c','d','e','f'])\n",
    "print(new_series.values)\n",
    "\n",
    "print('-----------------')\n",
    "print(new_series['f'])"
   ]
  },
  {
   "cell_type": "markdown",
   "metadata": {},
   "source": [
    "It is easy to retrieve several elements of a series by their indices or make group assignments."
   ]
  },
  {
   "cell_type": "code",
   "execution_count": 4,
   "metadata": {},
   "outputs": [
    {
     "name": "stdout",
     "output_type": "stream",
     "text": [
      "[ 5  6  7  8  9 19]\n",
      "-----------------\n",
      "a    0\n",
      "b    0\n",
      "c    7\n",
      "d    8\n",
      "e    9\n",
      "f    0\n",
      "dtype: int64\n"
     ]
    }
   ],
   "source": [
    "import pandas as pd\n",
    "\n",
    "new_series = pd.Series([5,6,7,8,9,19], index=['a','b','c','d','e','f'])\n",
    "print(new_series.values)\n",
    "\n",
    "print('-----------------')\n",
    "new_series[['a','b','f']] = 0\n",
    "print(new_series)"
   ]
  },
  {
   "cell_type": "markdown",
   "metadata": {},
   "source": [
    "# Filtering and maths operations"
   ]
  },
  {
   "cell_type": "code",
   "execution_count": 5,
   "metadata": {},
   "outputs": [
    {
     "name": "stdout",
     "output_type": "stream",
     "text": [
      "c     7\n",
      "d     8\n",
      "e     9\n",
      "f    19\n",
      "dtype: int64\n",
      "-----------------\n",
      "b    12\n",
      "c    14\n",
      "d    16\n",
      "e    18\n",
      "f    38\n",
      "dtype: int64\n"
     ]
    }
   ],
   "source": [
    "import pandas as pd\n",
    "\n",
    "new_series = pd.Series([5,6,7,8,9,19], index=['a','b','c','d','e','f'])\n",
    "new_series2 = new_series[new_series> 6]\n",
    "print (new_series2)\n",
    "print('-----------------')\n",
    "new_series2 = new_series[new_series >= 6]*2\n",
    "print(new_series2)"
   ]
  },
  {
   "attachments": {
    "image.png": {
     "image/png": "[encoded data removed]"
    }
   },
   "cell_type": "markdown",
   "metadata": {},
   "source": [
    "# Pandas data frame\n",
    "\n",
    "A data frame is a table, with rows and columns. \n",
    "* Each column in a data frame is a series object.\n",
    "* Rows consist of elements inside series.\n",
    "![image.png](attachment:image.png)"
   ]
  },
  {
   "cell_type": "markdown",
   "metadata": {},
   "source": [
    "# Creating a Pandas data frame\n",
    "\n",
    "Pandas data frames can be constructed using Python dictionaries.\n"
   ]
  },
  {
   "cell_type": "code",
   "execution_count": 6,
   "metadata": {},
   "outputs": [
    {
     "name": "stdout",
     "output_type": "stream",
     "text": [
      "    country  population  square\n",
      "0   Vietnam    97338579  331212\n",
      "1  Cambodia    16718971  181035\n",
      "2      Laos     7275556  236800\n"
     ]
    }
   ],
   "source": [
    "import pandas as pd\n",
    "\n",
    "# Define the data\n",
    "data = {\n",
    "    'country': ['Vietnam', 'Cambodia', 'Laos'],\n",
    "    'population': [97338579, 16718971, 7275556],  # Population values\n",
    "    'square': [331212, 181035, 236800]  # Square kilometer values\n",
    "}\n",
    "\n",
    "# Create the DataFrame\n",
    "df = pd.DataFrame(data)\n",
    "\n",
    "# Print the DataFrame\n",
    "print(df)"
   ]
  },
  {
   "cell_type": "markdown",
   "metadata": {},
   "source": [
    "You can ascertain the type of a column with the type() function"
   ]
  },
  {
   "cell_type": "code",
   "execution_count": 7,
   "metadata": {},
   "outputs": [
    {
     "name": "stdout",
     "output_type": "stream",
     "text": [
      "<class 'pandas.core.series.Series'>\n"
     ]
    }
   ],
   "source": [
    "print(type(df['country']))"
   ]
  },
  {
   "cell_type": "code",
   "execution_count": 8,
   "metadata": {},
   "outputs": [
    {
     "name": "stdout",
     "output_type": "stream",
     "text": [
      "   0  1  2\n",
      "0  0  1  2\n",
      "1  3  4  5\n",
      "2  6  7  8\n",
      "   V1  V2  V3\n",
      "0   0   1   2\n",
      "1   3   4   5\n",
      "2   6   7   8\n"
     ]
    }
   ],
   "source": [
    "import pandas as pd\n",
    "\n",
    "list2 = [[0,1,2],[3,4,5],[6,7,8]]\n",
    "\n",
    "df = pd.DataFrame(list2)\n",
    "print(df)\n",
    "\n",
    "df.columns = ['V1', 'V2', 'V3']\n",
    "print(df)"
   ]
  },
  {
   "cell_type": "markdown",
   "metadata": {},
   "source": [
    "A Pandas data frame object as two indices; a column index and row index. If you do not provide one, Pandas will create a RangeIndex from 0 to N-1."
   ]
  },
  {
   "cell_type": "code",
   "execution_count": 9,
   "metadata": {},
   "outputs": [
    {
     "name": "stdout",
     "output_type": "stream",
     "text": [
      "Index(['country', 'population', 'square'], dtype='object')\n",
      "RangeIndex(start=0, stop=3, step=1)\n"
     ]
    }
   ],
   "source": [
    "import pandas as pd\n",
    "\n",
    "# Define the data\n",
    "data = {\n",
    "    'country': ['Vietnam', 'Cambodia', 'Laos'],\n",
    "    'population': [97338579, 16718971, 7275556],  # Population values\n",
    "    'square': [331212, 181035, 236800]  # Square kilometer values\n",
    "}\n",
    "\n",
    "# Create the DataFrame\n",
    "df = pd.DataFrame(data)\n",
    "\n",
    "print(df.columns)\n",
    "print(df.index)"
   ]
  },
  {
   "cell_type": "markdown",
   "metadata": {},
   "source": [
    "# Indexing"
   ]
  },
  {
   "cell_type": "markdown",
   "metadata": {},
   "source": [
    "There are numerous ways to provide row indices explicitly. For example, you could provide an index when creating a data frame:"
   ]
  },
  {
   "cell_type": "code",
   "execution_count": 10,
   "metadata": {},
   "outputs": [
    {
     "name": "stdout",
     "output_type": "stream",
     "text": [
      "     country  population  square\n",
      "VN   Vietnam    97338579  331212\n",
      "KH  Cambodia    16718971  181035\n",
      "LA      Laos     7275556  236800\n",
      "Index(['country', 'population', 'square'], dtype='object')\n",
      "Index(['VN', 'KH', 'LA'], dtype='object')\n"
     ]
    }
   ],
   "source": [
    "import pandas as pd\n",
    "\n",
    "# Define the data\n",
    "data = {\n",
    "    'country': ['Vietnam', 'Cambodia', 'Laos'],\n",
    "    'population': [97338579, 16718971, 7275556],  # Population values\n",
    "    'square': [331212, 181035, 236800]  # Square kilometer values\n",
    "}\n",
    "\n",
    "# Create the DataFrame with custom index\n",
    "df = pd.DataFrame(data, index=['VN', 'KH', 'LA'])\n",
    "\n",
    "print(df)\n",
    "print(df.columns)\n",
    "print(df.index)\n"
   ]
  },
  {
   "cell_type": "markdown",
   "metadata": {},
   "source": [
    "loc and iloc are used for accessing data in DataFrames. They serve different purposes and are used in different contexts.\n",
    "\n",
    "* loc\n",
    "    - Purpose: loc is used for label-based indexing. It allows you to select rows and columns by their labels (names).\n",
    "    - Usage: loc[row_label, column_label]"
   ]
  },
  {
   "cell_type": "code",
   "execution_count": 11,
   "metadata": {},
   "outputs": [
    {
     "name": "stdout",
     "output_type": "stream",
     "text": [
      "country        Vietnam\n",
      "population    97338579\n",
      "square          331212\n",
      "Name: VN, dtype: object\n"
     ]
    }
   ],
   "source": [
    "# Using loc to access data\n",
    "print(df.loc['VN'])  # Access the row with index 'VN'"
   ]
  },
  {
   "cell_type": "code",
   "execution_count": 12,
   "metadata": {},
   "outputs": [
    {
     "name": "stdout",
     "output_type": "stream",
     "text": [
      "97338579\n"
     ]
    }
   ],
   "source": [
    "print(df.loc['VN', 'population'])  # Access the 'population' column for the row with index 'VN'"
   ]
  },
  {
   "cell_type": "code",
   "execution_count": 13,
   "metadata": {},
   "outputs": [
    {
     "name": "stdout",
     "output_type": "stream",
     "text": [
      "VN     Vietnam\n",
      "KH    Cambodia\n",
      "LA        Laos\n",
      "Name: country, dtype: object\n"
     ]
    }
   ],
   "source": [
    "print(df.loc[:, 'country'])  # Access all rows for the 'country' column"
   ]
  },
  {
   "cell_type": "code",
   "execution_count": 14,
   "metadata": {},
   "outputs": [
    {
     "name": "stdout",
     "output_type": "stream",
     "text": [
      "     country  population\n",
      "VN   Vietnam    97338579\n",
      "KH  Cambodia    16718971\n"
     ]
    }
   ],
   "source": [
    "print(df.loc['VN':'KH', 'country':'population'])  # Access a range of rows and columns"
   ]
  },
  {
   "cell_type": "markdown",
   "metadata": {},
   "source": [
    "* iloc\n",
    "  - Purpose: iloc is used for positional indexing. It allows you to select rows and columns by their integer positions.\n",
    "  - Usage: iloc[row_index, column_index]\n",
    "\n",
    "Example:"
   ]
  },
  {
   "cell_type": "code",
   "execution_count": 15,
   "metadata": {},
   "outputs": [
    {
     "name": "stdout",
     "output_type": "stream",
     "text": [
      "country        Vietnam\n",
      "population    97338579\n",
      "square          331212\n",
      "Name: VN, dtype: object\n"
     ]
    }
   ],
   "source": [
    "print(df.iloc[0])  # Access the first row (index position 0)"
   ]
  },
  {
   "cell_type": "code",
   "execution_count": 16,
   "metadata": {},
   "outputs": [
    {
     "name": "stdout",
     "output_type": "stream",
     "text": [
      "97338579\n"
     ]
    }
   ],
   "source": [
    "print(df.iloc[0, 1])  # Access the first row, second column (index position [0, 1])"
   ]
  },
  {
   "cell_type": "code",
   "execution_count": 17,
   "metadata": {},
   "outputs": [
    {
     "name": "stdout",
     "output_type": "stream",
     "text": [
      "VN    97338579\n",
      "KH    16718971\n",
      "LA     7275556\n",
      "Name: population, dtype: int64\n"
     ]
    }
   ],
   "source": [
    "print(df.iloc[:, 1])  # Access all rows for the second column (index position 1)"
   ]
  },
  {
   "cell_type": "code",
   "execution_count": 18,
   "metadata": {},
   "outputs": [
    {
     "name": "stdout",
     "output_type": "stream",
     "text": [
      "     country  population\n",
      "VN   Vietnam    97338579\n",
      "KH  Cambodia    16718971\n"
     ]
    }
   ],
   "source": [
    "print(df.iloc[0:2, 0:2])  # Access a range of rows and columns by index positions"
   ]
  },
  {
   "cell_type": "markdown",
   "metadata": {},
   "source": [
    "## Filtering\n",
    "\n",
    "Filtering is performed using so-called Boolean arrays.\n"
   ]
  },
  {
   "cell_type": "code",
   "execution_count": 19,
   "metadata": {},
   "outputs": [
    {
     "name": "stdout",
     "output_type": "stream",
     "text": [
      "    country  population\n",
      "VN  Vietnam    97338579\n",
      "LA     Laos     7275556\n"
     ]
    }
   ],
   "source": [
    "print(df[df.square > 200000][['country', 'population']])"
   ]
  },
  {
   "cell_type": "markdown",
   "metadata": {},
   "source": [
    "# Deleting columns\n",
    "\n",
    "You can delete a column using the drop() function.\n"
   ]
  },
  {
   "cell_type": "code",
   "execution_count": 20,
   "metadata": {},
   "outputs": [
    {
     "name": "stdout",
     "output_type": "stream",
     "text": [
      "     country  population  square\n",
      "VN   Vietnam    97338579  331212\n",
      "KH  Cambodia    16718971  181035\n",
      "LA      Laos     7275556  236800\n",
      "     country  square\n",
      "VN   Vietnam  331212\n",
      "KH  Cambodia  181035\n",
      "LA      Laos  236800\n"
     ]
    }
   ],
   "source": [
    "print(df)\n",
    "df2 = df.drop(['population'], axis='columns')\n",
    "print(df2)"
   ]
  },
  {
   "cell_type": "markdown",
   "metadata": {},
   "source": [
    "# Reading from and writing to a file\n",
    "\n",
    "Pandas supports many popular file formats including CSV, XML, HTML, Excel, SQL, JSON, etc.\n",
    "Out of all of these, CSV is the file format that you will work with the most.\n",
    "You can read in the data from a CSV file using the read_csv() function."
   ]
  },
  {
   "cell_type": "code",
   "execution_count": 21,
   "metadata": {},
   "outputs": [],
   "source": [
    "covid19 =  pd.read_csv('https://raw.githubusercontent.com/huynhhoc/DataAnalystDeepLearning/main/Data/covid19/countriessample.csv')"
   ]
  },
  {
   "cell_type": "markdown",
   "metadata": {},
   "source": [
    "\n",
    "Similarly, you can write a data frame to a csv file with the to_csv() function."
   ]
  },
  {
   "cell_type": "code",
   "execution_count": 22,
   "metadata": {},
   "outputs": [],
   "source": [
    "covid19.to_csv('covid19_copy.csv')"
   ]
  },
  {
   "cell_type": "markdown",
   "metadata": {},
   "source": [
    "# pandas Questions\n",
    "\n",
    "1. What is the primary purpose of pandas in Python?\n",
    "\n",
    "A) Web development\n",
    "B) Data manipulation and analysis\n",
    "C) Numerical computing\n",
    "D) Text processing\n",
    "Answer: B\n",
    "\n",
    "2. How do you import pandas in a Python script?\n",
    "\n",
    "A) import pd\n",
    "B) import pandas as pd\n",
    "C) import pandas\n",
    "D) import pd as pandas\n",
    "Answer: B\n",
    "\n",
    "3. Which function reads a CSV file into a DataFrame?\n",
    "\n",
    "A) pd.read_file()\n",
    "B) pd.read_csv()\n",
    "C) pd.load_csv()\n",
    "D) pd.open_csv()\n",
    "Answer: B\n",
    "\n",
    "4. How do you display the first 5 rows of a DataFrame df?\n",
    "\n",
    "A) df.head(5)\n",
    "B) df.head()\n",
    "C) df.tail(5)\n",
    "D) df.show(5)\n",
    "Answer: B\n",
    "\n",
    "5. How do you select a column named \"age\" from DataFrame df?\n",
    "\n",
    "A) df.age\n",
    "B) df['age']\n",
    "C) df.loc[:, 'age']\n",
    "D) All of the above\n",
    "Answer: D\n",
    "\n",
    "6. Which method is used to remove missing values from a DataFrame?\n",
    "\n",
    "A) df.remove()\n",
    "B) df.dropna()\n",
    "C) df.drop()\n",
    "D) df.clean()\n",
    "Answer: B\n",
    "\n",
    "7. What does df.describe() provide?\n",
    "\n",
    "A) Summary statistics of the DataFrame\n",
    "B) The shape of the DataFrame\n",
    "C) The column names of the DataFrame\n",
    "D) The data types of the DataFrame\n",
    "Answer: A\n",
    "\n",
    "8. How do you group DataFrame df by a column named \"gender\"?\n",
    "\n",
    "A) df.groupby('gender')\n",
    "B) df.split('gender')\n",
    "C) df.divide('gender')\n",
    "D) df.group('gender')\n",
    "Answer: A\n",
    "\n",
    "9. How do you sort DataFrame df by a column named \"age\"?\n",
    "\n",
    "A) df.sortby('age')\n",
    "B) df.orderby('age')\n",
    "C) df.sort_values('age')\n",
    "D) df.sort('age')\n",
    "Answer: C\n",
    "\n",
    "10. What is the output of df.shape?\n",
    "\n",
    "A) The data types of the DataFrame\n",
    "B) The number of rows and columns in the DataFrame\n",
    "C) The summary statistics of the DataFrame\n",
    "D) The first few rows of the DataFrame\n",
    "Answer: B\n",
    "\n",
    "11. How do you rename a column in DataFrame df from 'old_name' to 'new_name'?\n",
    "\n",
    "A) df.rename(columns={'old_name': 'new_name'})\n",
    "B) df.columns['old_name'] = 'new_name'\n",
    "C) df.change_column('old_name', 'new_name')\n",
    "D) df.rename_column('old_name', 'new_name')\n",
    "Answer: A\n",
    "\n",
    "12. Which method is used to fill missing values in a DataFrame?\n",
    "\n",
    "A) df.fillna()\n",
    "B) df.dropna()\n",
    "C) df.replace_na()\n",
    "D) df.fill()\n",
    "Answer: A\n",
    "\n",
    "13. How do you get the column names of DataFrame df?\n",
    "\n",
    "A) df.columns()\n",
    "B) df.columns\n",
    "C) df.get_columns()\n",
    "D) df.column_names()\n",
    "Answer: B\n",
    "\n",
    "14. How do you filter rows in DataFrame df where the column 'age' is greater than 30?\n",
    "\n",
    "A) df[df['age'] > 30]\n",
    "B) df.filter('age' > 30)\n",
    "C) df[df.age > 30]\n",
    "D) Both A and C\n",
    "Answer: D\n",
    "\n",
    "15. What does df.isnull() return?\n",
    "\n",
    "A) Rows with null values\n",
    "B) A DataFrame of the same shape with boolean values indicating nulls\n",
    "C) A DataFrame without null values\n",
    "D) The number of null values in df\n",
    "Answer: B\n",
    "\n",
    "16. Which method concatenates DataFrames df1 and df2 vertically?\n",
    "\n",
    "A) pd.concat([df1, df2])\n",
    "B) pd.append([df1, df2])\n",
    "C) pd.merge([df1, df2])\n",
    "D) pd.join([df1, df2])\n",
    "Answer: A\n",
    "\n",
    "17. How do you reset the index of DataFrame df?\n",
    "\n",
    "A) df.reset()\n",
    "B) df.reset_index()\n",
    "C) df.index.reset()\n",
    "D) df.reindex()\n",
    "Answer: B\n",
    "\n",
    "18. How do you drop a column named 'age' in DataFrame df?\n",
    "\n",
    "A) df.drop_column('age')\n",
    "B) df.drop(columns='age')\n",
    "C) df.drop('age', axis=1)\n",
    "D) Both B and C\n",
    "Answer: D\n",
    "\n",
    "19. What does df.apply(np.sum) do?\n",
    "\n",
    "A) Applies the sum function to each element in df\n",
    "B) Applies the sum function along each column in df\n",
    "C) Applies the sum function along each row in df\n",
    "D) Both B and C\n",
    "Answer: B\n",
    "\n",
    "20. Which function merges two DataFrames df1 and df2 on a common column 'key'?\n",
    "\n",
    "A) pd.concat([df1, df2], on='key')\n",
    "B) pd.merge([df1, df2], on='key')\n",
    "C) df1.merge(df2, on='key')\n",
    "D) Both B and C\n",
    "Answer: C"
   ]
  }
 ],
 "metadata": {
  "kernelspec": {
   "display_name": "Python 3",
   "language": "python",
   "name": "python3"
  },
  "language_info": {
   "codemirror_mode": {
    "name": "ipython",
    "version": 3
   },
   "file_extension": ".py",
   "mimetype": "text/x-python",
   "name": "python",
   "nbconvert_exporter": "python",
   "pygments_lexer": "ipython3",
   "version": "3.9.13"
  }
 },
 "nbformat": 4,
 "nbformat_minor": 2
}
