{
 "cells": [
  {
   "cell_type": "markdown",
   "metadata": {},
   "source": [
    "# Creating a NumPy array\n",
    "\n",
    "Create a NumPy array is to create one from a list by passing it to the np.array() function"
   ]
  },
  {
   "cell_type": "code",
   "execution_count": 3,
   "metadata": {},
   "outputs": [
    {
     "name": "stdout",
     "output_type": "stream",
     "text": [
      "<class 'numpy.ndarray'>\n",
      "[0 1 2 3 4]\n"
     ]
    }
   ],
   "source": [
    "import numpy as np\n",
    "\n",
    "list1 = [0, 1, 2, 3, 4]\n",
    "arr = np.array(list1)\n",
    "\n",
    "print(type(arr))\n",
    "print(arr)"
   ]
  },
  {
   "cell_type": "markdown",
   "metadata": {},
   "source": [
    "The key difference between an array and a list is that arrays are designed to handle vectorised operations while a python lists are not.\n",
    "That means, if you apply a function, it is performed on every item in the array, rather than on the whole array object.\n",
    "\n",
    "Let’s suppose you want to add the number 2 to every item in the list. The intuitive way to do this is something like this:"
   ]
  },
  {
   "cell_type": "code",
   "execution_count": 4,
   "metadata": {},
   "outputs": [
    {
     "ename": "TypeError",
     "evalue": "can only concatenate list (not \"int\") to list",
     "output_type": "error",
     "traceback": [
      "\u001b[1;31m---------------------------------------------------------------------------\u001b[0m",
      "\u001b[1;31mTypeError\u001b[0m                                 Traceback (most recent call last)",
      "Cell \u001b[1;32mIn[4], line 4\u001b[0m\n\u001b[0;32m      1\u001b[0m \u001b[38;5;28;01mimport\u001b[39;00m \u001b[38;5;21;01mnumpy\u001b[39;00m \u001b[38;5;28;01mas\u001b[39;00m \u001b[38;5;21;01mnp\u001b[39;00m\n\u001b[0;32m      3\u001b[0m list1 \u001b[38;5;241m=\u001b[39m [\u001b[38;5;241m0\u001b[39m, \u001b[38;5;241m1\u001b[39m, \u001b[38;5;241m2\u001b[39m, \u001b[38;5;241m3\u001b[39m, \u001b[38;5;241m4\u001b[39m]\n\u001b[1;32m----> 4\u001b[0m list1 \u001b[38;5;241m=\u001b[39m \u001b[43mlist1\u001b[49m\u001b[43m \u001b[49m\u001b[38;5;241;43m+\u001b[39;49m\u001b[43m \u001b[49m\u001b[38;5;241;43m2\u001b[39;49m\n",
      "\u001b[1;31mTypeError\u001b[0m: can only concatenate list (not \"int\") to list"
     ]
    }
   ],
   "source": [
    "import numpy as np\n",
    "\n",
    "list1 = [0, 1, 2, 3, 4]\n",
    "list1 = list1 + 2"
   ]
  },
  {
   "cell_type": "markdown",
   "metadata": {},
   "source": [
    "That was not possible with a list, but you can do that on an array:"
   ]
  },
  {
   "cell_type": "code",
   "execution_count": null,
   "metadata": {},
   "outputs": [
    {
     "name": "stdout",
     "output_type": "stream",
     "text": [
      "[2 3 4 5 6]\n"
     ]
    }
   ],
   "source": [
    "import numpy as np\n",
    "\n",
    "list1 = [0, 1, 2, 3, 4]\n",
    "arr = np.array(list1)\n",
    "arr = arr + 2\n",
    "\n",
    "print (arr)\n"
   ]
  },
  {
   "cell_type": "markdown",
   "metadata": {},
   "source": [
    "# Create a 2d array from a list of list"
   ]
  },
  {
   "cell_type": "code",
   "execution_count": null,
   "metadata": {},
   "outputs": [
    {
     "name": "stdout",
     "output_type": "stream",
     "text": [
      "[[0 1 2]\n",
      " [3 4 5]\n",
      " [6 7 8]]\n"
     ]
    }
   ],
   "source": [
    "import numpy as np\n",
    "\n",
    "list2 = [[0,1,2],[3,4,5],[6,7,8]]\n",
    "arr2 = np.array(list2)\n",
    "print(arr2)"
   ]
  },
  {
   "cell_type": "markdown",
   "metadata": {},
   "source": [
    "# The dtype argument\n",
    "\n",
    "- You can specify the data-type by setting the dtype() argument.\n",
    "- Some of the most commonly used NumPy dtypes are: float, int, bool, str, and object."
   ]
  },
  {
   "cell_type": "code",
   "execution_count": null,
   "metadata": {},
   "outputs": [
    {
     "name": "stdout",
     "output_type": "stream",
     "text": [
      "[[0. 1. 2.]\n",
      " [3. 4. 5.]\n",
      " [6. 7. 8.]]\n"
     ]
    }
   ],
   "source": [
    "list2 = [[0,1,2],[3,4,5],[6,7,8]]\n",
    "arr3 = np.array(list2, dtype='float')\n",
    "print(arr3)"
   ]
  },
  {
   "cell_type": "markdown",
   "metadata": {},
   "source": [
    "You can also convert it to a different data-type using the astype method."
   ]
  },
  {
   "cell_type": "code",
   "execution_count": null,
   "metadata": {},
   "outputs": [
    {
     "name": "stdout",
     "output_type": "stream",
     "text": [
      "[['0' '1' '2']\n",
      " ['3' '4' '5']\n",
      " ['6' '7' '8']]\n"
     ]
    }
   ],
   "source": [
    "list2 = [[0,1,2],[3,4,5],[6,7,8]]\n",
    "arr3 = np.array(list2, dtype='float')\n",
    "\n",
    "arr3_str = arr3.astype('int').astype('str')\n",
    "print(arr3_str)"
   ]
  },
  {
   "cell_type": "markdown",
   "metadata": {},
   "source": [
    "However, if you are uncertain about what data type your array will hold, or if you want to hold characters and numbers in the same array, you can set the dtype as 'object'."
   ]
  },
  {
   "cell_type": "code",
   "execution_count": null,
   "metadata": {},
   "outputs": [
    {
     "name": "stdout",
     "output_type": "stream",
     "text": [
      "[1 'a']\n"
     ]
    }
   ],
   "source": [
    "arr_obj = np.array([1, 'a'], dtype='object')\n",
    "print(arr_obj)"
   ]
  },
  {
   "cell_type": "markdown",
   "metadata": {},
   "source": [
    "You can always convert an array into a list using the tolist() command."
   ]
  },
  {
   "cell_type": "code",
   "execution_count": null,
   "metadata": {},
   "outputs": [
    {
     "name": "stdout",
     "output_type": "stream",
     "text": [
      "<class 'numpy.ndarray'>\n",
      "<class 'list'>\n",
      "[[0.0, 1.0, 2.0], [3.0, 4.0, 5.0], [6.0, 7.0, 8.0]]\n"
     ]
    }
   ],
   "source": [
    "arr_list = arr3.tolist()\n",
    "\n",
    "print(type(arr3))\n",
    "print (type(arr_list))\n",
    "print(arr_list)"
   ]
  },
  {
   "cell_type": "markdown",
   "metadata": {},
   "source": [
    "Note: Remember that, unlike lists, all items in an array have to be of the same type."
   ]
  },
  {
   "cell_type": "markdown",
   "metadata": {},
   "source": [
    "# Inspecting a NumPy array"
   ]
  },
  {
   "cell_type": "markdown",
   "metadata": {},
   "source": [
    "There are a range of functions built into NumPy that allow you to inspect different aspects of an array:"
   ]
  },
  {
   "cell_type": "code",
   "execution_count": null,
   "metadata": {},
   "outputs": [
    {
     "name": "stdout",
     "output_type": "stream",
     "text": [
      "shape : (3, 3)\n",
      "Data type : float64\n",
      "Size : 9\n",
      "Num dimensions : 2\n"
     ]
    }
   ],
   "source": [
    "import numpy as np\n",
    "\n",
    "list2 = [[0,1,2],[3,4,5],[6,7,8]]\n",
    "arr3 = np.array(list2, dtype='float')\n",
    "print(\"shape :\", arr3.shape)\n",
    "print(\"Data type :\", arr3.dtype)\n",
    "print(\"Size :\", arr3.size)\n",
    "print(\"Num dimensions :\", arr3.ndim)"
   ]
  },
  {
   "cell_type": "markdown",
   "metadata": {},
   "source": [
    "# Extract specific items from array\n",
    "\n",
    "You can extract portions of the array using indices, much like when you’re working with lists.\n",
    "Unlike lists, however, arrays can optionally accept as many parameters in the square brackets as there are number of dimensions"
   ]
  },
  {
   "cell_type": "code",
   "execution_count": null,
   "metadata": {},
   "outputs": [
    {
     "name": "stdout",
     "output_type": "stream",
     "text": [
      "whole: [[0. 1. 2.]\n",
      " [3. 4. 5.]\n",
      " [6. 7. 8.]]\n",
      "Part: [[1.]\n",
      " [4.]]\n"
     ]
    }
   ],
   "source": [
    "import numpy as np\n",
    "\n",
    "list2 = [[0,1,2],[3,4,5],[6,7,8]]\n",
    "arr3 = np.array(list2, dtype='float')\n",
    "print(\"whole:\", arr3)\n",
    "print(\"Part:\", arr3[ 0:2 , 1:2 ])"
   ]
  },
  {
   "cell_type": "markdown",
   "metadata": {},
   "source": [
    "A boolean index array is of the same shape as the array-to-be-filtered, but it only contains TRUE and FALSE values."
   ]
  },
  {
   "cell_type": "code",
   "execution_count": null,
   "metadata": {},
   "outputs": [
    {
     "name": "stdout",
     "output_type": "stream",
     "text": [
      "[[False False False]\n",
      " [ True  True  True]\n",
      " [ True  True  True]]\n"
     ]
    }
   ],
   "source": [
    "boo = arr3 > 2\n",
    "print(boo)"
   ]
  },
  {
   "cell_type": "markdown",
   "metadata": {},
   "source": [
    "np.where(condition, x, y) will return an array with elements set to x where condition is True, and set to y where condition is False."
   ]
  },
  {
   "cell_type": "code",
   "execution_count": null,
   "metadata": {},
   "outputs": [
    {
     "name": "stdout",
     "output_type": "stream",
     "text": [
      "[[0 1 1]\n",
      " [1 1 1]\n",
      " [1 1 1]]\n"
     ]
    }
   ],
   "source": [
    "binary = np.where (arr3, 1, 0)\n",
    "print (binary)"
   ]
  },
  {
   "cell_type": "markdown",
   "metadata": {},
   "source": [
    "# NumPy Questions\n",
    "\n",
    "1. What is the primary purpose of NumPy in Python?\n",
    "\n",
    "A) Web development\n",
    "B) Data manipulation\n",
    "C) Numerical computing\n",
    "D) Text processing\n",
    "Answer: C\n",
    "\n",
    "2. How do you import NumPy in a Python script?\n",
    "\n",
    "A) import np\n",
    "B) import numpy as np\n",
    "C) import numpy\n",
    "D) import np as numpy\n",
    "Answer: B\n",
    "\n",
    "3. Which function creates a NumPy array filled with zeros?\n",
    "\n",
    "A) np.zeros()\n",
    "B) np.ones()\n",
    "C) np.empty()\n",
    "D) np.full()\n",
    "Answer: A\n",
    "\n",
    "4. What does np.arange(10) do?\n",
    "\n",
    "A) Creates an array from 1 to 10\n",
    "B) Creates an array from 0 to 10\n",
    "C) Creates an array from 0 to 9\n",
    "D) Creates an array of 10 ones\n",
    "Answer: C\n",
    "\n",
    "5. How do you get the shape of a NumPy array arr?\n",
    "\n",
    "A) arr.shape()\n",
    "B) np.shape(arr)\n",
    "C) arr.shape\n",
    "D) shape(arr)\n",
    "Answer: C\n",
    "\n",
    "6. What is the output of np.array([1, 2, 3]) + np.array([4, 5, 6])?\n",
    "\n",
    "A) [5, 7, 9]\n",
    "B) [14, 25, 36]\n",
    "C) [4, 5, 6, 1, 2, 3]\n",
    "D) Error\n",
    "Answer: A\n",
    "\n",
    "7. Which function reshapes a NumPy array?\n",
    "\n",
    "A) np.reshape()\n",
    "B) np.resize()\n",
    "C) np.format()\n",
    "D) np.shape()\n",
    "Answer: A\n",
    "\n",
    "8. What does np.linspace(0, 1, 5) do?\n",
    "\n",
    "A) Creates an array of 5 zeros\n",
    "B) Creates an array from 0 to 1 with 5 equally spaced values\n",
    "C) Creates an array from 0 to 4\n",
    "D) Creates an array from 0 to 1 with 5 random values\n",
    "Answer: B\n",
    "\n",
    "9. How do you perform element-wise multiplication of two arrays a and b?\n",
    "\n",
    "A) a * b\n",
    "B) np.multiply(a, b)\n",
    "C) a.dot(b)\n",
    "D) Both A and B\n",
    "Answer: D\n",
    "\n",
    "10. What does np.mean(arr) compute?\n",
    "\n",
    "A) The sum of all elements in arr\n",
    "B) The average of all elements in arr\n",
    "C) The median of all elements in arr\n",
    "D) The mode of all elements in arr\n",
    "Answer: B\n",
    "\n",
    "11. Which function is used to find the maximum value in a NumPy array arr?\n",
    "\n",
    "A) np.max(arr)\n",
    "B) np.maximum(arr)\n",
    "C) np.argmax(arr)\n",
    "D) np.amax(arr)\n",
    "Answer: A\n",
    "\n",
    "12. How do you create a 2x3 array filled with ones?\n",
    "\n",
    "A) np.ones((2, 3))\n",
    "B) np.full((2, 3), 1)\n",
    "C) np.array([1, 1, 1, 1, 1, 1]).reshape((2, 3))\n",
    "D) All of the above\n",
    "Answer: D\n",
    "\n",
    "13. What does arr.T do to the array arr?\n",
    "\n",
    "A) Transposes the array\n",
    "B) Flattens the array\n",
    "C) Sorts the array\n",
    "D) Reverses the array\n",
    "Answer: A\n",
    "\n",
    "14. How do you find the indices of non-zero elements in an array arr?\n",
    "\n",
    "A) np.nonzero(arr)\n",
    "B) arr.nonzero()\n",
    "C) np.where(arr != 0)\n",
    "D) All of the above\n",
    "Answer: D\n",
    "\n",
    "15. What does np.concatenate([a, b]) do if a and b are arrays?\n",
    "\n",
    "A) Adds the elements of b to a\n",
    "B) Combines a and b into a single array\n",
    "C) Multiplies the elements of a with b\n",
    "D) Finds the common elements of a and b\n",
    "Answer: B\n",
    "\n",
    "16. Which function is used to create an identity matrix?\n",
    "\n",
    "A) np.eye()\n",
    "B) np.identity()\n",
    "C) np.ones()\n",
    "D) np.identity_matrix()\n",
    "Answer: A\n",
    "\n",
    "17. What does np.dot(a, b) compute if a and b are arrays?\n",
    "\n",
    "A) Element-wise multiplication\n",
    "B) Matrix product\n",
    "C) Cross product\n",
    "D) Addition\n",
    "Answer: B\n",
    "\n",
    "18. How do you save a NumPy array arr to a file?\n",
    "\n",
    "A) np.save('filename', arr)\n",
    "B) np.save_array('filename', arr)\n",
    "C) np.write('filename', arr)\n",
    "D) np.export('filename', arr)\n",
    "Answer: A\n",
    "\n",
    "19. What is the output of np.sqrt(np.array([1, 4, 9]))?\n",
    "\n",
    "A) [1, 2, 3]\n",
    "B) [1, 16, 81]\n",
    "C) [1, 4, 9]\n",
    "D) Error\n",
    "Answer: A\n",
    "\n",
    "20. How do you stack two arrays a and b vertically?\n",
    "\n",
    "A) np.vstack((a, b))\n",
    "B) np.hstack((a, b))\n",
    "C) np.column_stack((a, b))\n",
    "D) np.concatenate((a, b), axis=1)\n",
    "Answer: A"
   ]
  }
 ],
 "metadata": {
  "kernelspec": {
   "display_name": "Python 3",
   "language": "python",
   "name": "python3"
  },
  "language_info": {
   "codemirror_mode": {
    "name": "ipython",
    "version": 3
   },
   "file_extension": ".py",
   "mimetype": "text/x-python",
   "name": "python",
   "nbconvert_exporter": "python",
   "pygments_lexer": "ipython3",
   "version": "3.9.13"
  }
 },
 "nbformat": 4,
 "nbformat_minor": 2
}
