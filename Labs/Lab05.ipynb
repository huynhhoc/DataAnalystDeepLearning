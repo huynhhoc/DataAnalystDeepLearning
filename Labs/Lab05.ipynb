{
  "nbformat": 4,
  "nbformat_minor": 0,
  "metadata": {
    "colab": {
      "name": "Lab05.ipynb",
      "provenance": [],
      "authorship_tag": "ABX9TyP7nAfemM3Q9QCGyVhlaWWu",
      "include_colab_link": true
    },
    "kernelspec": {
      "name": "python3",
      "display_name": "Python 3"
    },
    "language_info": {
      "name": "python"
    }
  },
  "cells": [
    {
      "cell_type": "markdown",
      "metadata": {
        "id": "view-in-github",
        "colab_type": "text"
      },
      "source": [
        "<a href=\"https://colab.research.google.com/github/huynhhoc/DataAnalystDeepLearning/blob/main/Labs/Lab05.ipynb\" target=\"_parent\"><img src=\"https://colab.research.google.com/assets/colab-badge.svg\" alt=\"Open In Colab\"/></a>"
      ]
    },
    {
      "cell_type": "markdown",
      "metadata": {
        "id": "xTo26JdsWONk"
      },
      "source": [
        "# Mean - Mode - Median"
      ]
    },
    {
      "cell_type": "markdown",
      "metadata": {
        "id": "JlSpDYi4WUGL"
      },
      "source": [
        "**Mode**: là giá trị xuất hiện nhiều nhất trong tập dữ liệu"
      ]
    },
    {
      "cell_type": "markdown",
      "metadata": {
        "id": "iYmhWj84We5d"
      },
      "source": [
        ""
      ]
    }
  ]
}