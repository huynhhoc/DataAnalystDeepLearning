{
  "nbformat": 4,
  "nbformat_minor": 0,
  "metadata": {
    "colab": {
      "name": "Lab05.ipynb",
      "provenance": [],
      "authorship_tag": "ABX9TyPB0B9cFLq8yrTaSyeObCJX",
      "include_colab_link": true
    },
    "kernelspec": {
      "name": "python3",
      "display_name": "Python 3"
    },
    "language_info": {
      "name": "python"
    }
  },
  "cells": [
    {
      "cell_type": "markdown",
      "metadata": {
        "id": "view-in-github",
        "colab_type": "text"
      },
      "source": [
        "<a href=\"https://colab.research.google.com/github/huynhhoc/DataAnalystDeepLearning/blob/main/Labs/Lab05.ipynb\" target=\"_parent\"><img src=\"https://colab.research.google.com/assets/colab-badge.svg\" alt=\"Open In Colab\"/></a>"
      ]
    },
    {
      "cell_type": "markdown",
      "metadata": {
        "id": "xTo26JdsWONk"
      },
      "source": [
        "# Mean - Mode - Median"
      ]
    },
    {
      "cell_type": "markdown",
      "metadata": {
        "id": "JlSpDYi4WUGL"
      },
      "source": [
        "**Mode**: là giá trị xuất hiện nhiều nhất trong tập dữ liệu"
      ]
    },
    {
      "cell_type": "markdown",
      "metadata": {
        "id": "iYmhWj84We5d"
      },
      "source": [
        "#Thí dụ 1:"
      ]
    },
    {
      "cell_type": "code",
      "metadata": {
        "id": "DwZpgoxCW4TV",
        "outputId": "09ab932c-84cb-41a4-c62e-91d1b7849157",
        "colab": {
          "base_uri": "https://localhost:8080/"
        }
      },
      "source": [
        "from scipy import stats\n",
        "speed = [99,86,87,88,111,86,103,87,94,78,77,85,86]\n",
        "mode = stats.mode(speed)\n",
        "\n",
        "print(mode)"
      ],
      "execution_count": 1,
      "outputs": [
        {
          "output_type": "stream",
          "name": "stdout",
          "text": [
            "ModeResult(mode=array([86]), count=array([3]))\n"
          ]
        }
      ]
    },
    {
      "cell_type": "markdown",
      "metadata": {
        "id": "-BfqPkF9XLmY"
      },
      "source": [
        "**Median**\n",
        "The median value is the value in the middle, after you have sorted all the values:\n",
        "77, 78, 85, 86, 86, 86, ***87***, 87, 88, 94, 99, 103, 111"
      ]
    },
    {
      "cell_type": "markdown",
      "metadata": {
        "id": "6RUFBtUOXOkk"
      },
      "source": [
        "#Thí dụ 2"
      ]
    },
    {
      "cell_type": "code",
      "metadata": {
        "id": "acogqWE9XQQD",
        "outputId": "725fc5bb-45e8-4ee7-d69a-e71ca2433a80",
        "colab": {
          "base_uri": "https://localhost:8080/"
        }
      },
      "source": [
        "import numpy\n",
        "\n",
        "speed = [99,86,87,88,111,86,103,87,94,78,77,85,86]\n",
        "\n",
        "median = numpy.median(speed)\n",
        "\n",
        "print(median)"
      ],
      "execution_count": 2,
      "outputs": [
        {
          "output_type": "stream",
          "name": "stdout",
          "text": [
            "87.0\n"
          ]
        }
      ]
    },
    {
      "cell_type": "markdown",
      "metadata": {
        "id": "ebTZE8znXlms"
      },
      "source": [
        "**Mean**\n",
        "\n",
        "The mean value is the average value. To calculate the mean, find the sum of all values, and divide the sum by the number of values:\n",
        "(99+86+87+88+111+86+103+87+94+78+77+85+86) / 13 = 89.77"
      ]
    },
    {
      "cell_type": "markdown",
      "metadata": {
        "id": "zYwn9cpjXvHS"
      },
      "source": [
        "#Thí dụ 3"
      ]
    },
    {
      "cell_type": "code",
      "metadata": {
        "id": "E4gmo4Z8XsHf",
        "outputId": "c4d49ecd-1231-4372-f75b-5d5da2c97f7e",
        "colab": {
          "base_uri": "https://localhost:8080/"
        }
      },
      "source": [
        "import numpy\n",
        "\n",
        "speed = [99,86,87,88,111,86,103,87,94,78,77,85,86]\n",
        "\n",
        "mean = numpy.mean(speed)\n",
        "\n",
        "print(mean)"
      ],
      "execution_count": 3,
      "outputs": [
        {
          "output_type": "stream",
          "name": "stdout",
          "text": [
            "89.76923076923077\n"
          ]
        }
      ]
    }
  ]
}