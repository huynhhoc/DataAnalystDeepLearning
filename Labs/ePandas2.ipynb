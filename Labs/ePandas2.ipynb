{
 "cells": [
  {
   "cell_type": "markdown",
   "metadata": {},
   "source": [
    "# Sort, Filter, Aggregation, Grouping, Pivot, Concatenation, Merge/Join"
   ]
  },
  {
   "cell_type": "code",
   "execution_count": 1,
   "metadata": {},
   "outputs": [],
   "source": [
    "import pandas as pd\n",
    "\n",
    "data = {\n",
    "    'Team': ['A', 'A', 'B', 'B', 'B', 'C'],\n",
    "    'Age': [23, 25, 30, 22, 29, 24],\n",
    "    'Name': ['Alice', 'Bob', 'Charlie', 'David', 'Edward', 'Frank']\n",
    "}\n",
    "df = pd.DataFrame(data)"
   ]
  },
  {
   "cell_type": "code",
   "execution_count": 2,
   "metadata": {},
   "outputs": [
    {
     "data": {
      "text/html": [
       "<div>\n",
       "<style scoped>\n",
       "    .dataframe tbody tr th:only-of-type {\n",
       "        vertical-align: middle;\n",
       "    }\n",
       "\n",
       "    .dataframe tbody tr th {\n",
       "        vertical-align: top;\n",
       "    }\n",
       "\n",
       "    .dataframe thead th {\n",
       "        text-align: right;\n",
       "    }\n",
       "</style>\n",
       "<table border=\"1\" class=\"dataframe\">\n",
       "  <thead>\n",
       "    <tr style=\"text-align: right;\">\n",
       "      <th></th>\n",
       "      <th>Team</th>\n",
       "      <th>Age</th>\n",
       "      <th>Name</th>\n",
       "    </tr>\n",
       "  </thead>\n",
       "  <tbody>\n",
       "    <tr>\n",
       "      <th>0</th>\n",
       "      <td>A</td>\n",
       "      <td>23</td>\n",
       "      <td>Alice</td>\n",
       "    </tr>\n",
       "    <tr>\n",
       "      <th>1</th>\n",
       "      <td>A</td>\n",
       "      <td>25</td>\n",
       "      <td>Bob</td>\n",
       "    </tr>\n",
       "    <tr>\n",
       "      <th>2</th>\n",
       "      <td>B</td>\n",
       "      <td>30</td>\n",
       "      <td>Charlie</td>\n",
       "    </tr>\n",
       "    <tr>\n",
       "      <th>3</th>\n",
       "      <td>B</td>\n",
       "      <td>22</td>\n",
       "      <td>David</td>\n",
       "    </tr>\n",
       "    <tr>\n",
       "      <th>4</th>\n",
       "      <td>B</td>\n",
       "      <td>29</td>\n",
       "      <td>Edward</td>\n",
       "    </tr>\n",
       "    <tr>\n",
       "      <th>5</th>\n",
       "      <td>C</td>\n",
       "      <td>24</td>\n",
       "      <td>Frank</td>\n",
       "    </tr>\n",
       "  </tbody>\n",
       "</table>\n",
       "</div>"
      ],
      "text/plain": [
       "  Team  Age     Name\n",
       "0    A   23    Alice\n",
       "1    A   25      Bob\n",
       "2    B   30  Charlie\n",
       "3    B   22    David\n",
       "4    B   29   Edward\n",
       "5    C   24    Frank"
      ]
     },
     "execution_count": 2,
     "metadata": {},
     "output_type": "execute_result"
    }
   ],
   "source": [
    "df"
   ]
  },
  {
   "cell_type": "markdown",
   "metadata": {},
   "source": [
    "## Filter"
   ]
  },
  {
   "cell_type": "code",
   "execution_count": 3,
   "metadata": {},
   "outputs": [
    {
     "data": {
      "text/html": [
       "<div>\n",
       "<style scoped>\n",
       "    .dataframe tbody tr th:only-of-type {\n",
       "        vertical-align: middle;\n",
       "    }\n",
       "\n",
       "    .dataframe tbody tr th {\n",
       "        vertical-align: top;\n",
       "    }\n",
       "\n",
       "    .dataframe thead th {\n",
       "        text-align: right;\n",
       "    }\n",
       "</style>\n",
       "<table border=\"1\" class=\"dataframe\">\n",
       "  <thead>\n",
       "    <tr style=\"text-align: right;\">\n",
       "      <th></th>\n",
       "      <th>Name</th>\n",
       "      <th>Age</th>\n",
       "    </tr>\n",
       "  </thead>\n",
       "  <tbody>\n",
       "    <tr>\n",
       "      <th>0</th>\n",
       "      <td>Alice</td>\n",
       "      <td>23</td>\n",
       "    </tr>\n",
       "    <tr>\n",
       "      <th>1</th>\n",
       "      <td>Bob</td>\n",
       "      <td>25</td>\n",
       "    </tr>\n",
       "    <tr>\n",
       "      <th>2</th>\n",
       "      <td>Charlie</td>\n",
       "      <td>30</td>\n",
       "    </tr>\n",
       "    <tr>\n",
       "      <th>3</th>\n",
       "      <td>David</td>\n",
       "      <td>22</td>\n",
       "    </tr>\n",
       "    <tr>\n",
       "      <th>4</th>\n",
       "      <td>Edward</td>\n",
       "      <td>29</td>\n",
       "    </tr>\n",
       "    <tr>\n",
       "      <th>5</th>\n",
       "      <td>Frank</td>\n",
       "      <td>24</td>\n",
       "    </tr>\n",
       "  </tbody>\n",
       "</table>\n",
       "</div>"
      ],
      "text/plain": [
       "      Name  Age\n",
       "0    Alice   23\n",
       "1      Bob   25\n",
       "2  Charlie   30\n",
       "3    David   22\n",
       "4   Edward   29\n",
       "5    Frank   24"
      ]
     },
     "execution_count": 3,
     "metadata": {},
     "output_type": "execute_result"
    }
   ],
   "source": [
    "df1 = df.filter(items=['Name', 'Age'])\n",
    "df1"
   ]
  },
  {
   "cell_type": "code",
   "execution_count": 4,
   "metadata": {},
   "outputs": [
    {
     "data": {
      "text/html": [
       "<div>\n",
       "<style scoped>\n",
       "    .dataframe tbody tr th:only-of-type {\n",
       "        vertical-align: middle;\n",
       "    }\n",
       "\n",
       "    .dataframe tbody tr th {\n",
       "        vertical-align: top;\n",
       "    }\n",
       "\n",
       "    .dataframe thead th {\n",
       "        text-align: right;\n",
       "    }\n",
       "</style>\n",
       "<table border=\"1\" class=\"dataframe\">\n",
       "  <thead>\n",
       "    <tr style=\"text-align: right;\">\n",
       "      <th></th>\n",
       "      <th>Team</th>\n",
       "      <th>Age</th>\n",
       "      <th>Name</th>\n",
       "    </tr>\n",
       "  </thead>\n",
       "  <tbody>\n",
       "    <tr>\n",
       "      <th>2</th>\n",
       "      <td>B</td>\n",
       "      <td>30</td>\n",
       "      <td>Charlie</td>\n",
       "    </tr>\n",
       "    <tr>\n",
       "      <th>3</th>\n",
       "      <td>B</td>\n",
       "      <td>22</td>\n",
       "      <td>David</td>\n",
       "    </tr>\n",
       "    <tr>\n",
       "      <th>4</th>\n",
       "      <td>B</td>\n",
       "      <td>29</td>\n",
       "      <td>Edward</td>\n",
       "    </tr>\n",
       "    <tr>\n",
       "      <th>5</th>\n",
       "      <td>C</td>\n",
       "      <td>24</td>\n",
       "      <td>Frank</td>\n",
       "    </tr>\n",
       "  </tbody>\n",
       "</table>\n",
       "</div>"
      ],
      "text/plain": [
       "  Team  Age     Name\n",
       "2    B   30  Charlie\n",
       "3    B   22    David\n",
       "4    B   29   Edward\n",
       "5    C   24    Frank"
      ]
     },
     "execution_count": 4,
     "metadata": {},
     "output_type": "execute_result"
    }
   ],
   "source": [
    "df2 = df[df.apply(lambda row: row.astype(str).str.contains('a').any(), axis=1)]\n",
    "df2"
   ]
  },
  {
   "cell_type": "markdown",
   "metadata": {},
   "source": [
    "### Note:\n",
    "1. df.apply(): Apply a function along the specified axis.\n",
    "2. lambda row: row.astype(str).str.contains('a').any(): \n",
    "    A lambda function that converts each row to a string, checks if 'a' is present in any cell, and returns True if found.\n",
    "\n",
    "3. In the context of the apply function:\n",
    "    + Using axis=0 means the function is applied to each column.\n",
    "    + Using axis=1 means the function is applied to each row."
   ]
  },
  {
   "cell_type": "markdown",
   "metadata": {},
   "source": [
    "## Groupby"
   ]
  },
  {
   "cell_type": "code",
   "execution_count": 5,
   "metadata": {},
   "outputs": [
    {
     "data": {
      "text/html": [
       "<div>\n",
       "<style scoped>\n",
       "    .dataframe tbody tr th:only-of-type {\n",
       "        vertical-align: middle;\n",
       "    }\n",
       "\n",
       "    .dataframe tbody tr th {\n",
       "        vertical-align: top;\n",
       "    }\n",
       "\n",
       "    .dataframe thead th {\n",
       "        text-align: right;\n",
       "    }\n",
       "</style>\n",
       "<table border=\"1\" class=\"dataframe\">\n",
       "  <thead>\n",
       "    <tr style=\"text-align: right;\">\n",
       "      <th></th>\n",
       "      <th>count</th>\n",
       "    </tr>\n",
       "    <tr>\n",
       "      <th>Team</th>\n",
       "      <th></th>\n",
       "    </tr>\n",
       "  </thead>\n",
       "  <tbody>\n",
       "    <tr>\n",
       "      <th>A</th>\n",
       "      <td>2</td>\n",
       "    </tr>\n",
       "    <tr>\n",
       "      <th>B</th>\n",
       "      <td>3</td>\n",
       "    </tr>\n",
       "    <tr>\n",
       "      <th>C</th>\n",
       "      <td>1</td>\n",
       "    </tr>\n",
       "  </tbody>\n",
       "</table>\n",
       "</div>"
      ],
      "text/plain": [
       "      count\n",
       "Team       \n",
       "A         2\n",
       "B         3\n",
       "C         1"
      ]
     },
     "execution_count": 5,
     "metadata": {},
     "output_type": "execute_result"
    }
   ],
   "source": [
    "result = df.groupby('Team')['Age'].agg(['count'])\n",
    "\n",
    "\n",
    "result"
   ]
  },
  {
   "cell_type": "code",
   "execution_count": 6,
   "metadata": {},
   "outputs": [
    {
     "data": {
      "text/html": [
       "<div>\n",
       "<style scoped>\n",
       "    .dataframe tbody tr th:only-of-type {\n",
       "        vertical-align: middle;\n",
       "    }\n",
       "\n",
       "    .dataframe tbody tr th {\n",
       "        vertical-align: top;\n",
       "    }\n",
       "\n",
       "    .dataframe thead th {\n",
       "        text-align: right;\n",
       "    }\n",
       "</style>\n",
       "<table border=\"1\" class=\"dataframe\">\n",
       "  <thead>\n",
       "    <tr style=\"text-align: right;\">\n",
       "      <th></th>\n",
       "      <th>count</th>\n",
       "      <th>sum</th>\n",
       "      <th>max</th>\n",
       "      <th>min</th>\n",
       "      <th>mean</th>\n",
       "    </tr>\n",
       "    <tr>\n",
       "      <th>Team</th>\n",
       "      <th></th>\n",
       "      <th></th>\n",
       "      <th></th>\n",
       "      <th></th>\n",
       "      <th></th>\n",
       "    </tr>\n",
       "  </thead>\n",
       "  <tbody>\n",
       "    <tr>\n",
       "      <th>A</th>\n",
       "      <td>2</td>\n",
       "      <td>48</td>\n",
       "      <td>25</td>\n",
       "      <td>23</td>\n",
       "      <td>24.0</td>\n",
       "    </tr>\n",
       "    <tr>\n",
       "      <th>B</th>\n",
       "      <td>3</td>\n",
       "      <td>81</td>\n",
       "      <td>30</td>\n",
       "      <td>22</td>\n",
       "      <td>27.0</td>\n",
       "    </tr>\n",
       "    <tr>\n",
       "      <th>C</th>\n",
       "      <td>1</td>\n",
       "      <td>24</td>\n",
       "      <td>24</td>\n",
       "      <td>24</td>\n",
       "      <td>24.0</td>\n",
       "    </tr>\n",
       "  </tbody>\n",
       "</table>\n",
       "</div>"
      ],
      "text/plain": [
       "      count  sum  max  min  mean\n",
       "Team                            \n",
       "A         2   48   25   23  24.0\n",
       "B         3   81   30   22  27.0\n",
       "C         1   24   24   24  24.0"
      ]
     },
     "execution_count": 6,
     "metadata": {},
     "output_type": "execute_result"
    }
   ],
   "source": [
    "result = df.groupby('Team')['Age'].agg(['count', 'sum', 'max', 'min', 'mean'])\n",
    "\n",
    "result"
   ]
  },
  {
   "cell_type": "markdown",
   "metadata": {},
   "source": [
    "## Example of Pivot table"
   ]
  },
  {
   "cell_type": "code",
   "execution_count": 7,
   "metadata": {},
   "outputs": [
    {
     "name": "stdout",
     "output_type": "stream",
     "text": [
      "         Date Region Product     Category  Sales  Quantity  Discount\n",
      "0  2024-01-01  North       A  Electronics    200        10         5\n",
      "1  2024-01-01  South       A  Electronics    150         7         3\n",
      "2  2024-01-01   East       B    Furniture    100         5         2\n",
      "3  2024-01-02  North       A  Electronics    220        11         6\n",
      "4  2024-01-02  South       A  Electronics    180         9         4\n",
      "5  2024-01-02   East       B    Furniture    130         6         3\n",
      "6  2024-01-03  North       B    Furniture    250        12         7\n",
      "7  2024-01-03  South       B    Furniture    200        10         5\n",
      "8  2024-01-03   East       A  Electronics    160         8         4\n",
      "9  2024-01-04  North       B    Furniture    270        13         8\n",
      "10 2024-01-04  South       B    Furniture    210        11         6\n",
      "11 2024-01-04   East       A  Electronics    190         9         5\n"
     ]
    }
   ],
   "source": [
    "import pandas as pd\n",
    "\n",
    "data = {\n",
    "    'Date': ['2024-01-01', '2024-01-01', '2024-01-01', '2024-01-02', '2024-01-02', '2024-01-02',\n",
    "             '2024-01-03', '2024-01-03', '2024-01-03', '2024-01-04', '2024-01-04', '2024-01-04'],\n",
    "    'Region': ['North', 'South', 'East', 'North', 'South', 'East', 'North', 'South', 'East', 'North', 'South', 'East'],\n",
    "    'Product': ['A', 'A', 'B', 'A', 'A', 'B', 'B', 'B', 'A', 'B', 'B', 'A'],\n",
    "    'Category': ['Electronics', 'Electronics', 'Furniture', 'Electronics', 'Electronics', 'Furniture',\n",
    "                 'Furniture', 'Furniture', 'Electronics', 'Furniture', 'Furniture', 'Electronics'],\n",
    "    'Sales': [200, 150, 100, 220, 180, 130, 250, 200, 160, 270, 210, 190],\n",
    "    'Quantity': [10, 7, 5, 11, 9, 6, 12, 10, 8, 13, 11, 9],\n",
    "    'Discount': [5, 3, 2, 6, 4, 3, 7, 5, 4, 8, 6, 5]\n",
    "}\n",
    "df = pd.DataFrame(data)\n",
    "df['Date'] = pd.to_datetime(df['Date'])\n",
    "\n",
    "print(df)"
   ]
  },
  {
   "cell_type": "markdown",
   "metadata": {},
   "source": [
    "### Example 1: Sum of Sales by Region and Product\n",
    "\n",
    "Create a pivot table to sum the sales by Region and Product:"
   ]
  },
  {
   "cell_type": "code",
   "execution_count": 8,
   "metadata": {},
   "outputs": [
    {
     "name": "stdout",
     "output_type": "stream",
     "text": [
      "Region  East  North  South\n",
      "Sales    580    940    740\n"
     ]
    }
   ],
   "source": [
    "pivot1 = df.pivot_table(values='Sales', columns='Region', aggfunc='sum')\n",
    "print(pivot1)"
   ]
  },
  {
   "cell_type": "code",
   "execution_count": 9,
   "metadata": {},
   "outputs": [
    {
     "name": "stdout",
     "output_type": "stream",
     "text": [
      "Region      East  North  South\n",
      "Date                          \n",
      "2024-01-01   100    200    150\n",
      "2024-01-02   130    220    180\n",
      "2024-01-03   160    250    200\n",
      "2024-01-04   190    270    210\n"
     ]
    }
   ],
   "source": [
    "pivot1 = df.pivot_table(values='Sales', index='Date', columns='Region', aggfunc='sum')\n",
    "print(pivot1)"
   ]
  },
  {
   "cell_type": "markdown",
   "metadata": {},
   "source": [
    "### Example 2: Sum of Sales by Region and Product\n",
    "Create a pivot table to sum the sales by Region and Product:"
   ]
  },
  {
   "cell_type": "code",
   "execution_count": 10,
   "metadata": {},
   "outputs": [
    {
     "name": "stdout",
     "output_type": "stream",
     "text": [
      "Product    A    B\n",
      "Region           \n",
      "East     350  230\n",
      "North    420  520\n",
      "South    330  410\n"
     ]
    }
   ],
   "source": [
    "pivot1 = df.pivot_table(values='Sales', index='Region', columns='Product', aggfunc='sum')\n",
    "print(pivot1)"
   ]
  },
  {
   "cell_type": "markdown",
   "metadata": {},
   "source": [
    "### Example 3: Multiple Aggregation Functions\n",
    "\n",
    "Create a pivot table to show both the sum and the mean of sales by Date and Region:"
   ]
  },
  {
   "cell_type": "code",
   "execution_count": 11,
   "metadata": {},
   "outputs": [
    {
     "name": "stdout",
     "output_type": "stream",
     "text": [
      "            sum               mean              \n",
      "Region     East North South   East  North  South\n",
      "Date                                            \n",
      "2024-01-01  100   200   150  100.0  200.0  150.0\n",
      "2024-01-02  130   220   180  130.0  220.0  180.0\n",
      "2024-01-03  160   250   200  160.0  250.0  200.0\n",
      "2024-01-04  190   270   210  190.0  270.0  210.0\n"
     ]
    }
   ],
   "source": [
    "pivot2 = df.pivot_table(values='Sales', index='Date', columns='Region', aggfunc=['sum', 'mean'])\n",
    "print(pivot2)"
   ]
  },
  {
   "cell_type": "markdown",
   "metadata": {},
   "source": [
    "### Example 4: Multiple Aggregation Functions (Sum and Mean)\n",
    "\n",
    "Create a pivot table to show both the sum and the mean of sales by Category and Product:"
   ]
  },
  {
   "cell_type": "code",
   "execution_count": 12,
   "metadata": {},
   "outputs": [
    {
     "name": "stdout",
     "output_type": "stream",
     "text": [
      "              sum              mean            \n",
      "Product         A     B           A           B\n",
      "Category                                       \n",
      "Electronics  1100     0  183.333333    0.000000\n",
      "Furniture       0  1160    0.000000  193.333333\n"
     ]
    }
   ],
   "source": [
    "pivot2 = df.pivot_table(values='Sales', index='Category', columns='Product', aggfunc=['sum', 'mean'], fill_value=0)\n",
    "print(pivot2)"
   ]
  },
  {
   "cell_type": "markdown",
   "metadata": {},
   "source": [
    "### Example 3: Pivot Table with Multiple Index and Columns, Including Quantity and Discount\n",
    "\n",
    "Create a pivot table to summarize sales, quantity, and discount by Date and Region:"
   ]
  },
  {
   "cell_type": "code",
   "execution_count": 13,
   "metadata": {},
   "outputs": [
    {
     "name": "stdout",
     "output_type": "stream",
     "text": [
      "                  Discount    Quantity     Sales     \n",
      "Product                  A  B        A   B     A    B\n",
      "Date       Region                                    \n",
      "2024-01-01 East          0  2        0   5     0  100\n",
      "           North         5  0       10   0   200    0\n",
      "           South         3  0        7   0   150    0\n",
      "2024-01-02 East          0  3        0   6     0  130\n",
      "           North         6  0       11   0   220    0\n",
      "           South         4  0        9   0   180    0\n",
      "2024-01-03 East          4  0        8   0   160    0\n",
      "           North         0  7        0  12     0  250\n",
      "           South         0  5        0  10     0  200\n",
      "2024-01-04 East          5  0        9   0   190    0\n",
      "           North         0  8        0  13     0  270\n",
      "           South         0  6        0  11     0  210\n"
     ]
    }
   ],
   "source": [
    "pivot3 = df.pivot_table(values=['Sales', 'Quantity', 'Discount'], index=['Date', 'Region'], columns='Product', aggfunc='sum', fill_value=0)\n",
    "print(pivot3)"
   ]
  },
  {
   "cell_type": "markdown",
   "metadata": {},
   "source": [
    "## Concatenation"
   ]
  },
  {
   "cell_type": "code",
   "execution_count": 14,
   "metadata": {},
   "outputs": [
    {
     "data": {
      "text/html": [
       "<div>\n",
       "<style scoped>\n",
       "    .dataframe tbody tr th:only-of-type {\n",
       "        vertical-align: middle;\n",
       "    }\n",
       "\n",
       "    .dataframe tbody tr th {\n",
       "        vertical-align: top;\n",
       "    }\n",
       "\n",
       "    .dataframe thead th {\n",
       "        text-align: right;\n",
       "    }\n",
       "</style>\n",
       "<table border=\"1\" class=\"dataframe\">\n",
       "  <thead>\n",
       "    <tr style=\"text-align: right;\">\n",
       "      <th></th>\n",
       "      <th>A</th>\n",
       "      <th>B</th>\n",
       "      <th>C</th>\n",
       "      <th>D</th>\n",
       "    </tr>\n",
       "  </thead>\n",
       "  <tbody>\n",
       "    <tr>\n",
       "      <th>0</th>\n",
       "      <td>A0</td>\n",
       "      <td>B0</td>\n",
       "      <td>C0</td>\n",
       "      <td>D0</td>\n",
       "    </tr>\n",
       "    <tr>\n",
       "      <th>1</th>\n",
       "      <td>A1</td>\n",
       "      <td>B1</td>\n",
       "      <td>C1</td>\n",
       "      <td>D1</td>\n",
       "    </tr>\n",
       "    <tr>\n",
       "      <th>2</th>\n",
       "      <td>A2</td>\n",
       "      <td>B2</td>\n",
       "      <td>C2</td>\n",
       "      <td>D2</td>\n",
       "    </tr>\n",
       "    <tr>\n",
       "      <th>3</th>\n",
       "      <td>A3</td>\n",
       "      <td>B3</td>\n",
       "      <td>C3</td>\n",
       "      <td>D3</td>\n",
       "    </tr>\n",
       "  </tbody>\n",
       "</table>\n",
       "</div>"
      ],
      "text/plain": [
       "    A   B   C   D\n",
       "0  A0  B0  C0  D0\n",
       "1  A1  B1  C1  D1\n",
       "2  A2  B2  C2  D2\n",
       "3  A3  B3  C3  D3"
      ]
     },
     "execution_count": 14,
     "metadata": {},
     "output_type": "execute_result"
    }
   ],
   "source": [
    "# DataFrame 1\n",
    "df1 = pd.DataFrame({\n",
    "    'A': ['A0', 'A1', 'A2', 'A3'],\n",
    "    'B': ['B0', 'B1', 'B2', 'B3'],\n",
    "    'C': ['C0', 'C1', 'C2', 'C3'],\n",
    "    'D': ['D0', 'D1', 'D2', 'D3']\n",
    "})\n",
    "df1"
   ]
  },
  {
   "cell_type": "code",
   "execution_count": 15,
   "metadata": {},
   "outputs": [
    {
     "data": {
      "text/html": [
       "<div>\n",
       "<style scoped>\n",
       "    .dataframe tbody tr th:only-of-type {\n",
       "        vertical-align: middle;\n",
       "    }\n",
       "\n",
       "    .dataframe tbody tr th {\n",
       "        vertical-align: top;\n",
       "    }\n",
       "\n",
       "    .dataframe thead th {\n",
       "        text-align: right;\n",
       "    }\n",
       "</style>\n",
       "<table border=\"1\" class=\"dataframe\">\n",
       "  <thead>\n",
       "    <tr style=\"text-align: right;\">\n",
       "      <th></th>\n",
       "      <th>A</th>\n",
       "      <th>B</th>\n",
       "      <th>C</th>\n",
       "      <th>D</th>\n",
       "    </tr>\n",
       "  </thead>\n",
       "  <tbody>\n",
       "    <tr>\n",
       "      <th>0</th>\n",
       "      <td>A4</td>\n",
       "      <td>B4</td>\n",
       "      <td>C4</td>\n",
       "      <td>D4</td>\n",
       "    </tr>\n",
       "    <tr>\n",
       "      <th>1</th>\n",
       "      <td>A5</td>\n",
       "      <td>B5</td>\n",
       "      <td>C5</td>\n",
       "      <td>D5</td>\n",
       "    </tr>\n",
       "    <tr>\n",
       "      <th>2</th>\n",
       "      <td>A6</td>\n",
       "      <td>B6</td>\n",
       "      <td>C6</td>\n",
       "      <td>D6</td>\n",
       "    </tr>\n",
       "    <tr>\n",
       "      <th>3</th>\n",
       "      <td>A7</td>\n",
       "      <td>B7</td>\n",
       "      <td>C7</td>\n",
       "      <td>D7</td>\n",
       "    </tr>\n",
       "  </tbody>\n",
       "</table>\n",
       "</div>"
      ],
      "text/plain": [
       "    A   B   C   D\n",
       "0  A4  B4  C4  D4\n",
       "1  A5  B5  C5  D5\n",
       "2  A6  B6  C6  D6\n",
       "3  A7  B7  C7  D7"
      ]
     },
     "execution_count": 15,
     "metadata": {},
     "output_type": "execute_result"
    }
   ],
   "source": [
    "# DataFrame 2\n",
    "df2 = pd.DataFrame({\n",
    "    'A': ['A4', 'A5', 'A6', 'A7'],\n",
    "    'B': ['B4', 'B5', 'B6', 'B7'],\n",
    "    'C': ['C4', 'C5', 'C6', 'C7'],\n",
    "    'D': ['D4', 'D5', 'D6', 'D7']\n",
    "})\n",
    "df2"
   ]
  },
  {
   "cell_type": "code",
   "execution_count": 16,
   "metadata": {},
   "outputs": [
    {
     "data": {
      "text/html": [
       "<div>\n",
       "<style scoped>\n",
       "    .dataframe tbody tr th:only-of-type {\n",
       "        vertical-align: middle;\n",
       "    }\n",
       "\n",
       "    .dataframe tbody tr th {\n",
       "        vertical-align: top;\n",
       "    }\n",
       "\n",
       "    .dataframe thead th {\n",
       "        text-align: right;\n",
       "    }\n",
       "</style>\n",
       "<table border=\"1\" class=\"dataframe\">\n",
       "  <thead>\n",
       "    <tr style=\"text-align: right;\">\n",
       "      <th></th>\n",
       "      <th>E</th>\n",
       "      <th>F</th>\n",
       "      <th>G</th>\n",
       "      <th>H</th>\n",
       "    </tr>\n",
       "  </thead>\n",
       "  <tbody>\n",
       "    <tr>\n",
       "      <th>0</th>\n",
       "      <td>E0</td>\n",
       "      <td>F0</td>\n",
       "      <td>G0</td>\n",
       "      <td>H0</td>\n",
       "    </tr>\n",
       "    <tr>\n",
       "      <th>1</th>\n",
       "      <td>E1</td>\n",
       "      <td>F1</td>\n",
       "      <td>G1</td>\n",
       "      <td>H1</td>\n",
       "    </tr>\n",
       "    <tr>\n",
       "      <th>2</th>\n",
       "      <td>E2</td>\n",
       "      <td>F2</td>\n",
       "      <td>G2</td>\n",
       "      <td>H2</td>\n",
       "    </tr>\n",
       "    <tr>\n",
       "      <th>3</th>\n",
       "      <td>E3</td>\n",
       "      <td>F3</td>\n",
       "      <td>G3</td>\n",
       "      <td>H3</td>\n",
       "    </tr>\n",
       "  </tbody>\n",
       "</table>\n",
       "</div>"
      ],
      "text/plain": [
       "    E   F   G   H\n",
       "0  E0  F0  G0  H0\n",
       "1  E1  F1  G1  H1\n",
       "2  E2  F2  G2  H2\n",
       "3  E3  F3  G3  H3"
      ]
     },
     "execution_count": 16,
     "metadata": {},
     "output_type": "execute_result"
    }
   ],
   "source": [
    "# DataFrame 3\n",
    "df3 = pd.DataFrame({\n",
    "    'E': ['E0', 'E1', 'E2', 'E3'],\n",
    "    'F': ['F0', 'F1', 'F2', 'F3'],\n",
    "    'G': ['G0', 'G1', 'G2', 'G3'],\n",
    "    'H': ['H0', 'H1', 'H2', 'H3']\n",
    "})\n",
    "\n",
    "df3"
   ]
  },
  {
   "cell_type": "markdown",
   "metadata": {},
   "source": [
    "### Example 1: Concatenating Along Rows\n",
    "Concatenate df1 and df2 along rows (axis=0):"
   ]
  },
  {
   "cell_type": "code",
   "execution_count": 17,
   "metadata": {},
   "outputs": [
    {
     "name": "stdout",
     "output_type": "stream",
     "text": [
      "    A   B   C   D\n",
      "0  A0  B0  C0  D0\n",
      "1  A1  B1  C1  D1\n",
      "2  A2  B2  C2  D2\n",
      "3  A3  B3  C3  D3\n",
      "0  A4  B4  C4  D4\n",
      "1  A5  B5  C5  D5\n",
      "2  A6  B6  C6  D6\n",
      "3  A7  B7  C7  D7\n"
     ]
    }
   ],
   "source": [
    "result1 = pd.concat([df1, df2], axis=0)\n",
    "print(result1)"
   ]
  },
  {
   "cell_type": "code",
   "execution_count": 18,
   "metadata": {},
   "outputs": [
    {
     "name": "stdout",
     "output_type": "stream",
     "text": [
      "    A   B   C   D\n",
      "0  A0  B0  C0  D0\n",
      "1  A1  B1  C1  D1\n",
      "2  A2  B2  C2  D2\n",
      "3  A3  B3  C3  D3\n",
      "4  A4  B4  C4  D4\n",
      "5  A5  B5  C5  D5\n",
      "6  A6  B6  C6  D6\n",
      "7  A7  B7  C7  D7\n"
     ]
    }
   ],
   "source": [
    "# Resetting the index\n",
    "result1_reset = result1.reset_index(drop=True)\n",
    "print(result1_reset)"
   ]
  },
  {
   "cell_type": "markdown",
   "metadata": {},
   "source": [
    "## Concatenating with Different Indices\n",
    "Let's modify df2 to have different indices and concatenate along rows:"
   ]
  },
  {
   "cell_type": "code",
   "execution_count": 19,
   "metadata": {},
   "outputs": [
    {
     "name": "stdout",
     "output_type": "stream",
     "text": [
      "    A   B   C   D\n",
      "0  A0  B0  C0  D0\n",
      "1  A1  B1  C1  D1\n",
      "2  A2  B2  C2  D2\n",
      "3  A3  B3  C3  D3\n",
      "4  A4  B4  C4  D4\n",
      "5  A5  B5  C5  D5\n",
      "6  A6  B6  C6  D6\n",
      "7  A7  B7  C7  D7\n"
     ]
    }
   ],
   "source": [
    "df2.index = [4, 5, 6, 7]\n",
    "result3 = pd.concat([df1, df2], axis=0)\n",
    "print(result3)"
   ]
  },
  {
   "cell_type": "markdown",
   "metadata": {},
   "source": [
    "### Example 2: Concatenating Along Columns\n",
    "Concatenate df1 and df3 along columns (axis=1):"
   ]
  },
  {
   "cell_type": "code",
   "execution_count": 20,
   "metadata": {},
   "outputs": [
    {
     "name": "stdout",
     "output_type": "stream",
     "text": [
      "    A   B   C   D   E   F   G   H\n",
      "0  A0  B0  C0  D0  E0  F0  G0  H0\n",
      "1  A1  B1  C1  D1  E1  F1  G1  H1\n",
      "2  A2  B2  C2  D2  E2  F2  G2  H2\n",
      "3  A3  B3  C3  D3  E3  F3  G3  H3\n"
     ]
    }
   ],
   "source": [
    "result2 = pd.concat([df1, df3], axis=1)\n",
    "print(result2)"
   ]
  },
  {
   "cell_type": "markdown",
   "metadata": {},
   "source": [
    "Drop null"
   ]
  },
  {
   "cell_type": "code",
   "execution_count": 21,
   "metadata": {},
   "outputs": [
    {
     "name": "stdout",
     "output_type": "stream",
     "text": [
      "     A    B  C    D\n",
      "0  1.0  NaN  1  NaN\n",
      "1  2.0  2.0  2  NaN\n",
      "2  NaN  3.0  3  NaN\n",
      "3  4.0  NaN  4  4.0\n",
      "4  5.0  5.0  5  5.0\n"
     ]
    }
   ],
   "source": [
    "import pandas as pd\n",
    "import numpy as np\n",
    "\n",
    "data = {\n",
    "    'A': [1, 2, np.nan, 4, 5],\n",
    "    'B': [np.nan, 2, 3, np.nan, 5],\n",
    "    'C': [1, 2, 3, 4, 5],\n",
    "    'D': [np.nan, np.nan, np.nan, 4, 5]\n",
    "}\n",
    "df = pd.DataFrame(data)\n",
    "print(df)"
   ]
  },
  {
   "cell_type": "markdown",
   "metadata": {},
   "source": [
    "## Example 1: Drop Rows with Any Missing Values\n",
    "Drop all rows that contain any NaN values:"
   ]
  },
  {
   "cell_type": "code",
   "execution_count": 22,
   "metadata": {},
   "outputs": [
    {
     "name": "stdout",
     "output_type": "stream",
     "text": [
      "     A    B  C    D\n",
      "4  5.0  5.0  5  5.0\n"
     ]
    }
   ],
   "source": [
    "df1 = df.dropna()\n",
    "print(df1)"
   ]
  },
  {
   "cell_type": "markdown",
   "metadata": {},
   "source": [
    "## Example 2: Drop Columns with Any Missing Values\n",
    "Drop all columns that contain any NaN values:"
   ]
  },
  {
   "cell_type": "code",
   "execution_count": 23,
   "metadata": {},
   "outputs": [
    {
     "name": "stdout",
     "output_type": "stream",
     "text": [
      "   C\n",
      "0  1\n",
      "1  2\n",
      "2  3\n",
      "3  4\n",
      "4  5\n"
     ]
    }
   ],
   "source": [
    "df2 = df.dropna(axis=1)\n",
    "print(df2)"
   ]
  },
  {
   "cell_type": "markdown",
   "metadata": {},
   "source": [
    "## Example 3: Drop Rows with All Missing Values\n",
    "Drop only those rows where all elements are NaN:"
   ]
  },
  {
   "cell_type": "code",
   "execution_count": 24,
   "metadata": {},
   "outputs": [
    {
     "name": "stdout",
     "output_type": "stream",
     "text": [
      "     A    B  C    D\n",
      "0  1.0  NaN  1  NaN\n",
      "1  2.0  2.0  2  NaN\n",
      "2  NaN  3.0  3  NaN\n",
      "3  4.0  NaN  4  4.0\n",
      "4  5.0  5.0  5  5.0\n"
     ]
    }
   ],
   "source": [
    "df3 = df.dropna(how='all')\n",
    "print(df3)"
   ]
  },
  {
   "cell_type": "markdown",
   "metadata": {},
   "source": [
    "## Example 4: Drop Columns with All Missing Values\n",
    "Drop only those columns where all elements are NaN:"
   ]
  },
  {
   "cell_type": "code",
   "execution_count": 25,
   "metadata": {},
   "outputs": [
    {
     "name": "stdout",
     "output_type": "stream",
     "text": [
      "     A    B  C    D\n",
      "0  1.0  NaN  1  NaN\n",
      "1  2.0  2.0  2  NaN\n",
      "2  NaN  3.0  3  NaN\n",
      "3  4.0  NaN  4  4.0\n",
      "4  5.0  5.0  5  5.0\n"
     ]
    }
   ],
   "source": [
    "df4 = df.dropna(axis=1, how='all')\n",
    "print(df4)"
   ]
  },
  {
   "cell_type": "markdown",
   "metadata": {},
   "source": [
    "## Example 5: Drop Rows with Missing Values in Specific Columns\n",
    "Drop rows that contain NaN values in the specified columns:"
   ]
  },
  {
   "cell_type": "code",
   "execution_count": 26,
   "metadata": {},
   "outputs": [
    {
     "name": "stdout",
     "output_type": "stream",
     "text": [
      "     A    B  C    D\n",
      "1  2.0  2.0  2  NaN\n",
      "4  5.0  5.0  5  5.0\n"
     ]
    }
   ],
   "source": [
    "df5 = df.dropna(subset=['A', 'B'])\n",
    "print(df5)"
   ]
  },
  {
   "cell_type": "markdown",
   "metadata": {},
   "source": [
    "## Example 6: Drop Rows with a Threshold of Non-NaN Values\n",
    "Drop rows that have less than a certain number of non-NaN values:"
   ]
  },
  {
   "cell_type": "code",
   "execution_count": 27,
   "metadata": {},
   "outputs": [
    {
     "name": "stdout",
     "output_type": "stream",
     "text": [
      "     A    B  C    D\n",
      "1  2.0  2.0  2  NaN\n",
      "3  4.0  NaN  4  4.0\n",
      "4  5.0  5.0  5  5.0\n"
     ]
    }
   ],
   "source": [
    "df6 = df.dropna(thresh=3)\n",
    "print(df6)"
   ]
  },
  {
   "cell_type": "markdown",
   "metadata": {},
   "source": [
    "## Example 7: Drop Columns with a Threshold of Non-NaN Values\n",
    "Drop columns that have less than a certain number of non-NaN values:"
   ]
  },
  {
   "cell_type": "code",
   "execution_count": 28,
   "metadata": {},
   "outputs": [
    {
     "name": "stdout",
     "output_type": "stream",
     "text": [
      "     A  C\n",
      "0  1.0  1\n",
      "1  2.0  2\n",
      "2  NaN  3\n",
      "3  4.0  4\n",
      "4  5.0  5\n"
     ]
    }
   ],
   "source": [
    "df7 = df.dropna(axis=1, thresh=4)\n",
    "print(df7)"
   ]
  }
 ],
 "metadata": {
  "kernelspec": {
   "display_name": "Python 3",
   "language": "python",
   "name": "python3"
  },
  "language_info": {
   "codemirror_mode": {
    "name": "ipython",
    "version": 3
   },
   "file_extension": ".py",
   "mimetype": "text/x-python",
   "name": "python",
   "nbconvert_exporter": "python",
   "pygments_lexer": "ipython3",
   "version": "3.9.13"
  }
 },
 "nbformat": 4,
 "nbformat_minor": 2
}
