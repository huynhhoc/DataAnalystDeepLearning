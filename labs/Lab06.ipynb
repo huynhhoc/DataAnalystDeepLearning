{
  "nbformat": 4,
  "nbformat_minor": 0,
  "metadata": {
    "colab": {
      "name": "Lab06.ipynb",
      "provenance": [],
      "authorship_tag": "ABX9TyOB2svbLYlvrxqKGTPWXLvV",
      "include_colab_link": true
    },
    "kernelspec": {
      "name": "python3",
      "display_name": "Python 3"
    },
    "language_info": {
      "name": "python"
    }
  },
  "cells": [
    {
      "cell_type": "markdown",
      "metadata": {
        "id": "view-in-github",
        "colab_type": "text"
      },
      "source": [
        "<a href=\"https://colab.research.google.com/github/huynhhoc/DataAnalystDeepLearning/blob/main/labs/Lab06.ipynb\" target=\"_parent\"><img src=\"https://colab.research.google.com/assets/colab-badge.svg\" alt=\"Open In Colab\"/></a>"
      ]
    },
    {
      "cell_type": "markdown",
      "metadata": {
        "id": "2LBy4dT86U3x"
      },
      "source": [
        "#Mô hình hồi quy"
      ]
    },
    {
      "cell_type": "markdown",
      "metadata": {
        "id": "GKBFalqu-ous"
      },
      "source": [
        "**Mô hình hồi quy** là mô hình mô tả mối quan hệ giữa giá trị của một hay nhiều biến phụ thuộc (dependent/response variables) với tập hợp các biến độc lập (independent variables/predictors). Dạng đơn giản của một mô hình hồi quy chứa một biến phụ thuộc (biến đầu ra, biến Y) và một biến độc lặp (X).\n",
        "\n",
        "**Thí dụ**: Để thể hiện mối quan hệ giữa huyết áp (Y) theo tuổi tác (X) hay sự phụ thuộc của trọng lượng (Y) của một đối tượng theo khẩu phần ăn hằng ngày (X), ta có thể biểu diễn mối quan hệ này qua mô hình hồi quy."
      ]
    },
    {
      "cell_type": "code",
      "metadata": {
        "id": "nk8YeAsS6J_B"
      },
      "source": [
        ""
      ],
      "execution_count": null,
      "outputs": []
    }
  ]
}